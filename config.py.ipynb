{
 "cells": [
  {
   "cell_type": "code",
   "execution_count": null,
   "id": "aa8b55aa",
   "metadata": {},
   "outputs": [],
   "source": [
    "config.py\n",
    "\n",
    "client_id = 81f9c8aba4f046bcb35e9716a0478037\n",
    "client_secret = 58ce9835264846ec9652f83cbf9c70df"
   ]
  }
 ],
 "metadata": {
  "kernelspec": {
   "display_name": "Python 3 (ipykernel)",
   "language": "python",
   "name": "python3"
  },
  "language_info": {
   "codemirror_mode": {
    "name": "ipython",
    "version": 3
   },
   "file_extension": ".py",
   "mimetype": "text/x-python",
   "name": "python",
   "nbconvert_exporter": "python",
   "pygments_lexer": "ipython3",
   "version": "3.10.9"
  }
 },
 "nbformat": 4,
 "nbformat_minor": 5
}
